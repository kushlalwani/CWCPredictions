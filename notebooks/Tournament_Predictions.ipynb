{
 "cells": [
  {
   "cell_type": "markdown",
   "id": "138e6d2d",
   "metadata": {},
   "source": [
    "# 2025 FIFA Club World Cup Predictions"
   ]
  },
  {
   "cell_type": "markdown",
   "id": "d09afe9a",
   "metadata": {},
   "source": [
    "### Format and Participants\n",
    "\n",
    "The **2025 FIFA Club World Cup** features **32 of the world’s top football clubs**, selected based on performance in continental competitions from **2019 to 2024**. The tournament includes representation from all six FIFA confederations:\n",
    "\n",
    "- **UEFA (Europe)**: 12 teams, including **Real Madrid**, **Manchester City**, **Chelsea**, **Bayern Munich**, **Paris Saint-Germain**, and others.  \n",
    "- **CONMEBOL (South America)**: 6 teams, such as **Palmeiras**, **Flamengo**, **River Plate**, and **Atlético Mineiro**.  \n",
    "- **CONCACAF (North & Central America)**: 4 teams, including **Monterrey**, **Club León**, **Seattle Sounders**, and **Club América**.  \n",
    "- **AFC (Asia)**: 4 teams, such as **Al Hilal**, **Urawa Red Diamonds**, and **Al Ahli**.  \n",
    "- **CAF (Africa)**: 4 teams, including **Al Ahly**, **Wydad Casablanca**, and **Espérance de Tunis**.  \n",
    "- **OFC (Oceania)**: 1 team, likely **Auckland City FC**.  \n",
    "- Additionally, 1 spot is reserved for a **host nation team** from the **United States**.\n",
    "\n",
    "The tournament format mirrors that of the traditional FIFA World Cup. The 32 clubs are divided into **8 groups of 4 teams** each. Every team plays **3 group stage matches**, with the top **2 teams per group** advancing to the **Round of 16**. From there, the tournament proceeds through **single-elimination knockout rounds**: Round of 16, Quarterfinals, Semifinals, and the Final. There are no two-legged ties or replays—each knockout match is decided on the day, with extra time and penalties if needed.\n",
    "\n",
    "This notebook uses machine learning to simulate match outcomes and provide predictions for each stage of the tournament.\n",
    "\n"
   ]
  },
  {
   "cell_type": "markdown",
   "id": "263792aa",
   "metadata": {
    "vscode": {
     "languageId": "latex"
    }
   },
   "source": [
    "### **Group A**\n",
    "| Pos | Flag | Team |\n",
    "|-----|------|-------------------------------|\n",
    "| A1  | <img src=\"https://flagcdn.com/w40/br.png\" width=\"20\"/> | Brazil Palmeiras |\n",
    "| A2  | <img src=\"https://flagcdn.com/w40/pt.png\" width=\"20\"/> | Portugal Porto |\n",
    "| A3  | <img src=\"https://flagcdn.com/w40/eg.png\" width=\"20\"/> | Egypt Al Ahly |\n",
    "| A4  | <img src=\"https://flagcdn.com/w40/us.png\" width=\"20\"/> | United States Inter Miami CF |\n",
    "\n",
    "### **Group B**\n",
    "| Pos | Flag | Team |\n",
    "|-----|------|---------------------------------------|\n",
    "| B1  | <img src=\"https://flagcdn.com/w40/fr.png\" width=\"20\"/> | France Paris Saint-Germain |\n",
    "| B2  | <img src=\"https://flagcdn.com/w40/es.png\" width=\"20\"/> | Spain Atlético Madrid |\n",
    "| B3  | <img src=\"https://flagcdn.com/w40/br.png\" width=\"20\"/> | Brazil Botafogo |\n",
    "| B4  | <img src=\"https://flagcdn.com/w40/us.png\" width=\"20\"/> | United States Seattle Sounders FC |\n",
    "\n",
    "### **Group C**\n",
    "| Pos | Flag | Team |\n",
    "|-----|------|------------------------------|\n",
    "| C1  | <img src=\"https://flagcdn.com/w40/de.png\" width=\"20\"/> | Germany Bayern Munich |\n",
    "| C2  | <img src=\"https://flagcdn.com/w40/nz.png\" width=\"20\"/> | New Zealand Auckland City |\n",
    "| C3  | <img src=\"https://flagcdn.com/w40/ar.png\" width=\"20\"/> | Argentina Boca Juniors |\n",
    "| C4  | <img src=\"https://flagcdn.com/w40/pt.png\" width=\"20\"/> | Portugal Benfica |\n",
    "\n",
    "### **Group D**\n",
    "| Pos | Flag | Team |\n",
    "|-----|------|--------------------------------------|\n",
    "| D1  | <img src=\"https://flagcdn.com/w40/br.png\" width=\"20\"/> | Flamengo |\n",
    "| D2  | <img src=\"https://flagcdn.com/w40/tn.png\" width=\"20\"/> | Espérance de Tunis |\n",
    "| D3  | <img src=\"https://flagcdn.com/w40/gb.png\" width=\"20\"/> | Chelsea |\n",
    "| D4  | <img src=\"https://flagcdn.com/w40/us.png\" width=\"20\"/> | Los Angeles FC |\n",
    "\n",
    "### **Group E**\n",
    "| Pos | Flag | Team |\n",
    "|-----|------|-------------------------------|\n",
    "| E1  | <img src=\"https://flagcdn.com/w40/ar.png\" width=\"20\"/> | River Plate |\n",
    "| E2  | <img src=\"https://flagcdn.com/w40/jp.png\" width=\"20\"/> | Urawa Red Diamonds |\n",
    "| E3  | <img src=\"https://flagcdn.com/w40/mx.png\" width=\"20\"/> | Monterrey |\n",
    "| E4  | <img src=\"https://flagcdn.com/w40/it.png\" width=\"20\"/> | Inter Milan |\n",
    "\n",
    "### **Group F**\n",
    "| Pos | Flag | Team |\n",
    "|-----|------|-------------------------------|\n",
    "| F1  | <img src=\"https://flagcdn.com/w40/br.png\" width=\"20\"/> | Fluminense |\n",
    "| F2  | <img src=\"https://flagcdn.com/w40/de.png\" width=\"20\"/> | Borussia Dortmund |\n",
    "| F3  | <img src=\"https://flagcdn.com/w40/kr.png\" width=\"20\"/> | Ulsan HD |\n",
    "| F4  | <img src=\"https://flagcdn.com/w40/za.png\" width=\"20\"/> | Mamelodi Sundowns |\n",
    "\n",
    "### **Group G**\n",
    "| Pos | Flag | Team |\n",
    "|-----|------|-------------------------------|\n",
    "| G1  | <img src=\"https://flagcdn.com/w40/gb.png\" width=\"20\"/> | Manchester City |\n",
    "| G2  | <img src=\"https://flagcdn.com/w40/ma.png\" width=\"20\"/> | Wydad AC |\n",
    "| G3  | <img src=\"https://flagcdn.com/w40/ae.png\" width=\"20\"/> | Al Ain |\n",
    "| G4  | <img src=\"https://flagcdn.com/w40/it.png\" width=\"20\"/> | Juventus |\n",
    "\n",
    "### **Group H**\n",
    "| Pos | Flag | Team |\n",
    "|-----|------|-------------------------------|\n",
    "| H1  | <img src=\"https://flagcdn.com/w40/es.png\" width=\"20\"/> | Real Madrid |\n",
    "| H2  | <img src=\"https://flagcdn.com/w40/sa.png\" width=\"20\"/> | Al-Hilal |\n",
    "| H3  | <img src=\"https://flagcdn.com/w40/mx.png\" width=\"20\"/> | Pachuca |\n",
    "| H4  | <img src=\"https://flagcdn.com/w40/at.png\" width=\"20\"/> | Red Bull Salzburg |"
   ]
  },
  {
   "cell_type": "markdown",
   "id": "3cad4b99",
   "metadata": {},
   "source": [
    "### Pre Prediction Data\n",
    "\n",
    "Before making predictions for the data, we need to obtain the data of the each of the participating team's previos three games. This is because we are using the previous three matches to make predictions about the upcoming games. We will also need to get the data into the format which is accepted by the models.\n",
    "\n",
    "To do this, I am going to implement a function that will take three parameters: The \"Home Team\" name, the \"Away Team\" name, and the date. This function will use the dataset that contains the previous match data, and create a row of data in the form that is acceptable by the model. \n",
    "\n",
    "### Evaluating the Predictions\n",
    "After obtaining the predictions from both the result model and the goals model, we will compare it the actual results of the match. We will predict each round one by one. The first round will cover each teams first group game, the second round will predict the team's second group games, and so on. This will help to create stronger predictions as we will have data from the current tournament instead of games predating the tournament.\n",
    "\n",
    "### Post Prediction\n",
    "\n",
    "After each predicted match, I will create a dataframe that contains the stats of the match that just occurred. I will combine this single row of data with the past games dataset. So then for the next round, the match that just ocurred will be able to be used for the previous three games statistics. I am going to try to implement a Selenium scraper to obtain the statistics from SofaScore."
   ]
  },
  {
   "cell_type": "markdown",
   "id": "3b2244c7",
   "metadata": {},
   "source": []
  }
 ],
 "metadata": {
  "kernelspec": {
   "display_name": "Python 3",
   "language": "python",
   "name": "python3"
  },
  "language_info": {
   "codemirror_mode": {
    "name": "ipython",
    "version": 3
   },
   "file_extension": ".py",
   "mimetype": "text/x-python",
   "name": "python",
   "nbconvert_exporter": "python",
   "pygments_lexer": "ipython3",
   "version": "3.13.3"
  }
 },
 "nbformat": 4,
 "nbformat_minor": 5
}
