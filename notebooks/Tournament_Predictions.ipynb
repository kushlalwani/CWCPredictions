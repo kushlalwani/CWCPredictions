{
 "cells": [
  {
   "cell_type": "markdown",
   "id": "138e6d2d",
   "metadata": {},
   "source": [
    "# 2025 FIFA Club World Cup Predictions"
   ]
  },
  {
   "cell_type": "markdown",
   "id": "d09afe9a",
   "metadata": {},
   "source": [
    "### Format and Participants\n",
    "\n",
    "The **2025 FIFA Club World Cup** features **32 of the world’s top football clubs**, selected based on performance in continental competitions from **2019 to 2024**. The tournament includes representation from all six FIFA confederations:\n",
    "\n",
    "- **UEFA (Europe)**: 12 teams, including **Real Madrid**, **Manchester City**, **Chelsea**, **Bayern Munich**, **Paris Saint-Germain**, and others.  \n",
    "- **CONMEBOL (South America)**: 6 teams, such as **Palmeiras**, **Flamengo**, **River Plate**, and **Atlético Mineiro**.  \n",
    "- **CONCACAF (North & Central America)**: 4 teams, including **Monterrey**, **Club León**, **Seattle Sounders**, and **Club América**.  \n",
    "- **AFC (Asia)**: 4 teams, such as **Al Hilal**, **Urawa Red Diamonds**, and **Al Ahli**.  \n",
    "- **CAF (Africa)**: 4 teams, including **Al Ahly**, **Wydad Casablanca**, and **Espérance de Tunis**.  \n",
    "- **OFC (Oceania)**: 1 team, likely **Auckland City FC**.  \n",
    "- Additionally, 1 spot is reserved for a **host nation team** from the **United States**.\n",
    "\n",
    "The tournament format mirrors that of the traditional FIFA World Cup. The 32 clubs are divided into **8 groups of 4 teams** each. Every team plays **3 group stage matches**, with the top **2 teams per group** advancing to the **Round of 16**. From there, the tournament proceeds through **single-elimination knockout rounds**: Round of 16, Quarterfinals, Semifinals, and the Final. There are no two-legged ties or replays—each knockout match is decided on the day, with extra time and penalties if needed.\n",
    "\n",
    "This notebook uses machine learning to simulate match outcomes and provide predictions for each stage of the tournament.\n",
    "\n"
   ]
  },
  {
   "cell_type": "markdown",
   "id": "263792aa",
   "metadata": {
    "vscode": {
     "languageId": "latex"
    }
   },
   "source": [
    "### **Group A**\n",
    "| Pos | Flag | Team |\n",
    "|-----|------|-------------------------------|\n",
    "| A1  | <img src=\"https://flagcdn.com/w40/br.png\" width=\"20\"/> | Brazil Palmeiras |\n",
    "| A2  | <img src=\"https://flagcdn.com/w40/pt.png\" width=\"20\"/> | Portugal Porto |\n",
    "| A3  | <img src=\"https://flagcdn.com/w40/eg.png\" width=\"20\"/> | Egypt Al Ahly |\n",
    "| A4  | <img src=\"https://flagcdn.com/w40/us.png\" width=\"20\"/> | United States Inter Miami CF |\n",
    "\n",
    "### **Group B**\n",
    "| Pos | Flag | Team |\n",
    "|-----|------|---------------------------------------|\n",
    "| B1  | <img src=\"https://flagcdn.com/w40/fr.png\" width=\"20\"/> | France Paris Saint-Germain |\n",
    "| B2  | <img src=\"https://flagcdn.com/w40/es.png\" width=\"20\"/> | Spain Atlético Madrid |\n",
    "| B3  | <img src=\"https://flagcdn.com/w40/br.png\" width=\"20\"/> | Brazil Botafogo |\n",
    "| B4  | <img src=\"https://flagcdn.com/w40/us.png\" width=\"20\"/> | United States Seattle Sounders FC |\n",
    "\n",
    "### **Group C**\n",
    "| Pos | Flag | Team |\n",
    "|-----|------|------------------------------|\n",
    "| C1  | <img src=\"https://flagcdn.com/w40/de.png\" width=\"20\"/> | Germany Bayern Munich |\n",
    "| C2  | <img src=\"https://flagcdn.com/w40/nz.png\" width=\"20\"/> | New Zealand Auckland City |\n",
    "| C3  | <img src=\"https://flagcdn.com/w40/ar.png\" width=\"20\"/> | Argentina Boca Juniors |\n",
    "| C4  | <img src=\"https://flagcdn.com/w40/pt.png\" width=\"20\"/> | Portugal Benfica |\n",
    "\n",
    "### **Group D**\n",
    "| Pos | Flag | Team |\n",
    "|-----|------|--------------------------------------|\n",
    "| D1  | <img src=\"https://flagcdn.com/w40/br.png\" width=\"20\"/> | Flamengo |\n",
    "| D2  | <img src=\"https://flagcdn.com/w40/tn.png\" width=\"20\"/> | Espérance de Tunis |\n",
    "| D3  | <img src=\"https://flagcdn.com/w40/gb.png\" width=\"20\"/> | Chelsea |\n",
    "| D4  | <img src=\"https://flagcdn.com/w40/us.png\" width=\"20\"/> | Los Angeles FC |\n",
    "\n",
    "### **Group E**\n",
    "| Pos | Flag | Team |\n",
    "|-----|------|-------------------------------|\n",
    "| E1  | <img src=\"https://flagcdn.com/w40/ar.png\" width=\"20\"/> | River Plate |\n",
    "| E2  | <img src=\"https://flagcdn.com/w40/jp.png\" width=\"20\"/> | Urawa Red Diamonds |\n",
    "| E3  | <img src=\"https://flagcdn.com/w40/mx.png\" width=\"20\"/> | Monterrey |\n",
    "| E4  | <img src=\"https://flagcdn.com/w40/it.png\" width=\"20\"/> | Inter Milan |\n",
    "\n",
    "### **Group F**\n",
    "| Pos | Flag | Team |\n",
    "|-----|------|-------------------------------|\n",
    "| F1  | <img src=\"https://flagcdn.com/w40/br.png\" width=\"20\"/> | Fluminense |\n",
    "| F2  | <img src=\"https://flagcdn.com/w40/de.png\" width=\"20\"/> | Borussia Dortmund |\n",
    "| F3  | <img src=\"https://flagcdn.com/w40/kr.png\" width=\"20\"/> | Ulsan HD |\n",
    "| F4  | <img src=\"https://flagcdn.com/w40/za.png\" width=\"20\"/> | Mamelodi Sundowns |\n",
    "\n",
    "### **Group G**\n",
    "| Pos | Flag | Team |\n",
    "|-----|------|-------------------------------|\n",
    "| G1  | <img src=\"https://flagcdn.com/w40/gb.png\" width=\"20\"/> | Manchester City |\n",
    "| G2  | <img src=\"https://flagcdn.com/w40/ma.png\" width=\"20\"/> | Wydad AC |\n",
    "| G3  | <img src=\"https://flagcdn.com/w40/ae.png\" width=\"20\"/> | Al Ain |\n",
    "| G4  | <img src=\"https://flagcdn.com/w40/it.png\" width=\"20\"/> | Juventus |\n",
    "\n",
    "### **Group H**\n",
    "| Pos | Flag | Team |\n",
    "|-----|------|-------------------------------|\n",
    "| H1  | <img src=\"https://flagcdn.com/w40/es.png\" width=\"20\"/> | Real Madrid |\n",
    "| H2  | <img src=\"https://flagcdn.com/w40/sa.png\" width=\"20\"/> | Al-Hilal |\n",
    "| H3  | <img src=\"https://flagcdn.com/w40/mx.png\" width=\"20\"/> | Pachuca |\n",
    "| H4  | <img src=\"https://flagcdn.com/w40/at.png\" width=\"20\"/> | Red Bull Salzburg |"
   ]
  },
  {
   "cell_type": "markdown",
   "id": "3cad4b99",
   "metadata": {},
   "source": [
    "### Pre Prediction Data\n",
    "\n",
    "Before making predictions for the data, we need to obtain the data of the each of the participating team's previos three games. This is because we are using the previous three matches to make predictions about the upcoming games. We will also need to get the data into the format which is accepted by the models.\n",
    "\n",
    "To do this, I am going to implement a function that will take three parameters: The \"Home Team\" name, the \"Away Team\" name, and the date. This function will use the dataset that contains the previous match data, and create a row of data in the form that is acceptable by the model. \n",
    "\n",
    "### Evaluating the Predictions\n",
    "After obtaining the predictions from both the result model and the goals model, we will compare it the actual results of the match. We will predict each round one by one. The first round will cover each teams first group game, the second round will predict the team's second group games, and so on. This will help to create stronger predictions as we will have data from the current tournament instead of games predating the tournament.\n",
    "\n",
    "### Post Prediction\n",
    "\n",
    "After each predicted match, I will create a dataframe that contains the stats of the match that just occurred. I will combine this single row of data with the past games dataset. So then for the next round, the match that just ocurred will be able to be used for the previous three games statistics. I am going to try to implement a Selenium scraper to obtain the statistics from SofaScore."
   ]
  },
  {
   "cell_type": "markdown",
   "id": "3b2244c7",
   "metadata": {},
   "source": [
    "### Imports"
   ]
  },
  {
   "cell_type": "code",
   "execution_count": 7,
   "id": "986b2ca3",
   "metadata": {},
   "outputs": [
    {
     "name": "stdout",
     "output_type": "stream",
     "text": [
      "['HOME_STRENGTH', 'HOME_LEAGUE_STRENGTH', 'HOME_GOALS_FOR_LAST3', 'HOME_GOALS_AGAINST_LAST3', 'HOME_STRENGTH_LAST3', 'HOME_LEAGUE_STRENGTH_LAST3', 'HOME_TARGET_LAST3', 'HOME_FORM_LAST3', 'AWAY_STRENGTH', 'AWAY_LEAGUE_STRENGTH', 'AWAY_GOALS_FOR_LAST3', 'AWAY_GOALS_AGAINST_LAST3', 'AWAY_STRENGTH_LAST3', 'AWAY_LEAGUE_STRENGTH_LAST3', 'AWAY_TARGET_LAST3', 'AWAY_FORM_LAST3', 'STRENGTH_DIFF', 'LEAGUE_STRENGTH_DIFF', 'HOME_GOAL_DIFF_LAST3', 'AWAY_GOAL_DIFF_LAST3']\n",
      "['HOME_STRENGTH', 'HOME_LEAGUE_STRENGTH', 'HOME_GOALS_FOR_LAST3', 'HOME_GOALS_AGAINST_LAST3', 'HOME_STRENGTH_LAST3', 'HOME_LEAGUE_STRENGTH_LAST3', 'HOME_TARGET_LAST3', 'HOME_CORNERS_LAST3', 'HOME_FORM_LAST3', 'AWAY_STRENGTH', 'AWAY_LEAGUE_STRENGTH', 'AWAY_GOALS_FOR_LAST3', 'AWAY_GOALS_AGAINST_LAST3', 'AWAY_STRENGTH_LAST3', 'AWAY_LEAGUE_STRENGTH_LAST3', 'AWAY_TARGET_LAST3', 'AWAY_CORNERS_LAST3', 'AWAY_FORM_LAST3', 'STRENGTH_DIFF', 'LEAGUE_STRENGTH_DIFF', 'HOME_GOAL_DIFF_LAST3', 'AWAY_GOAL_DIFF_LAST3']\n"
     ]
    }
   ],
   "source": [
    "import pandas as pd\n",
    "import numpy as np\n",
    "from catboost import CatBoostClassifier\n",
    "\n",
    "result_model = CatBoostClassifier()\n",
    "goals_model = CatBoostClassifier()\n",
    "\n",
    "result_model.load_model(\"catboost_result_model.cbm\")\n",
    "goals_model.load_model(\"catboost_goals_model.cbm\")\n",
    "\n",
    "match_data = pd.read_csv(\"../data/pretournament_data.csv\")\n",
    "\n",
    "print(result_model.feature_names_)\n",
    "print(goals_model.feature_names_)"
   ]
  },
  {
   "cell_type": "code",
   "execution_count": 8,
   "id": "5173d653",
   "metadata": {},
   "outputs": [],
   "source": [
    "import os\n",
    "import sys\n",
    "\n",
    "sys.path.append(os.path.abspath(\"../src\"))\n",
    "from transformer import transform_match_data_for_prediction"
   ]
  },
  {
   "cell_type": "code",
   "execution_count": 9,
   "id": "ba153be4",
   "metadata": {},
   "outputs": [
    {
     "data": {
      "text/html": [
       "<div>\n",
       "<style scoped>\n",
       "    .dataframe tbody tr th:only-of-type {\n",
       "        vertical-align: middle;\n",
       "    }\n",
       "\n",
       "    .dataframe tbody tr th {\n",
       "        vertical-align: top;\n",
       "    }\n",
       "\n",
       "    .dataframe thead th {\n",
       "        text-align: right;\n",
       "    }\n",
       "</style>\n",
       "<table border=\"1\" class=\"dataframe\">\n",
       "  <thead>\n",
       "    <tr style=\"text-align: right;\">\n",
       "      <th></th>\n",
       "      <th>HOME_STRENGTH</th>\n",
       "      <th>HOME_LEAGUE_STRENGTH</th>\n",
       "      <th>HOME_GOALS_FOR_LAST3</th>\n",
       "      <th>HOME_GOALS_AGAINST_LAST3</th>\n",
       "      <th>HOME_STRENGTH_LAST3</th>\n",
       "      <th>HOME_LEAGUE_STRENGTH_LAST3</th>\n",
       "      <th>HOME_TARGET_LAST3</th>\n",
       "      <th>HOME_CORNERS_LAST3</th>\n",
       "      <th>AWAY_STRENGTH</th>\n",
       "      <th>AWAY_LEAGUE_STRENGTH</th>\n",
       "      <th>...</th>\n",
       "      <th>AWAY_GOALS_AGAINST_LAST3</th>\n",
       "      <th>AWAY_STRENGTH_LAST3</th>\n",
       "      <th>AWAY_LEAGUE_STRENGTH_LAST3</th>\n",
       "      <th>AWAY_TARGET_LAST3</th>\n",
       "      <th>AWAY_CORNERS_LAST3</th>\n",
       "      <th>STRENGTH_DIFF</th>\n",
       "      <th>LEAGUE_STRENGTH_DIFF</th>\n",
       "      <th>HOME_GOAL_DIFF_LAST3</th>\n",
       "      <th>AWAY_GOAL_DIFF_LAST3</th>\n",
       "      <th>HOME_WIN</th>\n",
       "    </tr>\n",
       "  </thead>\n",
       "  <tbody>\n",
       "    <tr>\n",
       "      <th>0</th>\n",
       "      <td>91.5</td>\n",
       "      <td>85.9</td>\n",
       "      <td>2.0</td>\n",
       "      <td>0.333333</td>\n",
       "      <td>91.5</td>\n",
       "      <td>85.9</td>\n",
       "      <td>4.0</td>\n",
       "      <td>5.0</td>\n",
       "      <td>95.0</td>\n",
       "      <td>85.9</td>\n",
       "      <td>...</td>\n",
       "      <td>0.666667</td>\n",
       "      <td>95.0</td>\n",
       "      <td>85.9</td>\n",
       "      <td>5.333333</td>\n",
       "      <td>5.333333</td>\n",
       "      <td>-3.5</td>\n",
       "      <td>0.0</td>\n",
       "      <td>1.666667</td>\n",
       "      <td>1.0</td>\n",
       "      <td>None</td>\n",
       "    </tr>\n",
       "  </tbody>\n",
       "</table>\n",
       "<p>1 rows × 21 columns</p>\n",
       "</div>"
      ],
      "text/plain": [
       "   HOME_STRENGTH  HOME_LEAGUE_STRENGTH  HOME_GOALS_FOR_LAST3  \\\n",
       "0           91.5                  85.9                   2.0   \n",
       "\n",
       "   HOME_GOALS_AGAINST_LAST3  HOME_STRENGTH_LAST3  HOME_LEAGUE_STRENGTH_LAST3  \\\n",
       "0                  0.333333                 91.5                        85.9   \n",
       "\n",
       "   HOME_TARGET_LAST3  HOME_CORNERS_LAST3  AWAY_STRENGTH  AWAY_LEAGUE_STRENGTH  \\\n",
       "0                4.0                 5.0           95.0                  85.9   \n",
       "\n",
       "   ...  AWAY_GOALS_AGAINST_LAST3  AWAY_STRENGTH_LAST3  \\\n",
       "0  ...                  0.666667                 95.0   \n",
       "\n",
       "   AWAY_LEAGUE_STRENGTH_LAST3  AWAY_TARGET_LAST3  AWAY_CORNERS_LAST3  \\\n",
       "0                        85.9           5.333333            5.333333   \n",
       "\n",
       "   STRENGTH_DIFF  LEAGUE_STRENGTH_DIFF  HOME_GOAL_DIFF_LAST3  \\\n",
       "0           -3.5                   0.0              1.666667   \n",
       "\n",
       "   AWAY_GOAL_DIFF_LAST3  HOME_WIN  \n",
       "0                   1.0      None  \n",
       "\n",
       "[1 rows x 21 columns]"
      ]
     },
     "execution_count": 9,
     "metadata": {},
     "output_type": "execute_result"
    }
   ],
   "source": [
    "test = transform_match_data_for_prediction(\"Chelsea\",\"Man City\",match_data)\n",
    "\n",
    "test.head()\n",
    "#print(test.columns.tolist())\n"
   ]
  },
  {
   "cell_type": "code",
   "execution_count": null,
   "id": "568e5d6c",
   "metadata": {},
   "outputs": [],
   "source": []
  }
 ],
 "metadata": {
  "kernelspec": {
   "display_name": "Python 3",
   "language": "python",
   "name": "python3"
  },
  "language_info": {
   "codemirror_mode": {
    "name": "ipython",
    "version": 3
   },
   "file_extension": ".py",
   "mimetype": "text/x-python",
   "name": "python",
   "nbconvert_exporter": "python",
   "pygments_lexer": "ipython3",
   "version": "3.13.3"
  }
 },
 "nbformat": 4,
 "nbformat_minor": 5
}
